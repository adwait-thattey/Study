{
 "cells": [
  {
   "cell_type": "code",
   "execution_count": 1,
   "metadata": {},
   "outputs": [
    {
     "data": {
      "image/png": "[encoded data removed]",
      "text/plain": [
       "<Figure size 432x288 with 4 Axes>"
      ]
     },
     "metadata": {
      "needs_background": "light"
     },
     "output_type": "display_data"
    }
   ],
   "source": [
    "import numpy as np\n",
    "from scipy.signal import square\n",
    "from matplotlib import animation\n",
    "from matplotlib import pyplot as plt\n",
    "from matplotlib.patches import ConnectionPatch\n",
    "\n",
    "t = np.linspace(0, 1, 500, endpoint=False)\n",
    "sq_wave = square(2*np.pi*t)\n",
    "\n",
    "def bn(n, points, t):\n",
    "    b = points*(np.sin(2*n*np.pi*t))\n",
    "    return 2*b.sum()/points.size\n",
    "\n",
    "bn_lst = []\n",
    "sq_mat = np.zeros((4, 500), dtype = np.complex_)\n",
    "for idx, i in enumerate((1,3,5,7)):\n",
    "    bn_lst.append(bn(i, sq_wave, t))\n",
    "    sq_mat[idx, :] = bn_lst[idx] * np.exp(1j*2*np.pi*i*t)\n",
    "sq_mat_circ = np.add.accumulate(sq_mat, 0)\n",
    "\n",
    "fig = plt.figure(1)\n",
    "ax_1 = fig.add_subplot(221)\n",
    "ax_2 = fig.add_subplot(222)\n",
    "ax_3 = fig.add_subplot(223)\n",
    "ax_4 = fig.add_subplot(224)\n",
    "\n",
    "cmap = plt.get_cmap('jet_r')\n",
    "N = 6\n",
    "\n",
    "draw_lst = [ax_2.plot(0,0, color = cmap(i/N))[0] for i in range(4)] + [ax_3.plot(0,0, color = cmap(4/N))[0]] + [ax_4.plot(0,0, color = cmap(5/N))[0]]\n",
    "circle_lst = [plt.Circle((0,0), bn_lst[i%4], alpha = 1, color = cmap(i%4/N), fill = False) for i in range(8)]\n",
    "con_patch_lst = [ConnectionPatch(xyA=(0,0), xyB=(0,0), coordsA=\"data\", coordsB=\"data\", axesA=ax_1, axesB=ax_2, zorder=25) for i in range(5)]\n",
    "\n",
    "for i in range(4):\n",
    "    ax_1.add_patch(circle_lst[i])\n",
    "    ax_1.add_artist(con_patch_lst[i])\n",
    "\n",
    "for i in range(4, 8):\n",
    "    ax_3.add_patch(circle_lst[i])\n",
    "ax_3.add_artist(con_patch_lst[-1])\n",
    "\n",
    "ax_2.set_zorder(-1)\n",
    "ax_4.set_zorder(-1)\n",
    "\n",
    "def ani(i):\n",
    "    for j in range(4):\n",
    "        con_patch_lst[j].remove()\n",
    "        con_patch_lst[j] = ConnectionPatch(xyA=(sq_mat[j, i].real, sq_mat[j, i].imag), xyB=(t[i], sq_mat[j, i].imag), coordsA=\"data\", coordsB=\"data\", axesA=ax_1, axesB=ax_2, zorder=25)\n",
    "        ax_1.add_artist(con_patch_lst[j])\n",
    "        draw_lst[j].set_data(t[:i], sq_mat[j, :i].imag)\n",
    "    for j in range(5, 8):\n",
    "        circle_lst[j].center = (sq_mat_circ[j-5, i].real, sq_mat_circ[j-5, i].imag)\n",
    "    con_patch_lst[-1].remove()\n",
    "    con_patch_lst[-1] = ConnectionPatch(xyA=(sq_mat_circ[-1, i].real, sq_mat_circ[-1, i].imag), xyB=(t[i], sq_mat_circ[-1, i].imag), coordsA=\"data\", coordsB=\"data\", axesA=ax_3, axesB=ax_4, zorder=25)\n",
    "    ax_3.add_artist(con_patch_lst[-1])\n",
    "    draw_lst[-2].set_data(sq_mat_circ[-1, :i].real, sq_mat_circ[-1, :i].imag)\n",
    "    draw_lst[-1].set_data(t[:i], sq_mat_circ[-1, :i].imag)\n",
    "    return ([])\n",
    "\n",
    "ani = animation.FuncAnimation(fig, ani, np.arange(0, 500, i), interval=20, blit=True)\n",
    "ax_1.set_xlim(-2,2)\n",
    "ax_1.set_ylim(-2, 2)\n",
    "ax_2.set_xlim(0,1)\n",
    "ax_2.set_ylim(-2, 2)\n",
    "ax_3.set_xlim(-2,2)\n",
    "ax_3.set_ylim(-2, 2)\n",
    "ax_4.set_xlim(0,1)\n",
    "ax_4.set_ylim(-2, 2)\n",
    "plt.show()"
   ]
  }
 ],
 "metadata": {
  "kernelspec": {
   "display_name": "Python 3",
   "language": "python",
   "name": "python3"
  },
  "language_info": {
   "codemirror_mode": {
    "name": "ipython",
    "version": 3
   },
   "file_extension": ".py",
   "mimetype": "text/x-python",
   "name": "python",
   "nbconvert_exporter": "python",
   "pygments_lexer": "ipython3",
   "version": "3.8.6"
  }
 },
 "nbformat": 4,
 "nbformat_minor": 4
}
