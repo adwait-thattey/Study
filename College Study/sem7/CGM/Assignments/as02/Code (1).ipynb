{
  "nbformat": 4,
  "nbformat_minor": 0,
  "metadata": {
    "kernelspec": {
      "display_name": "Python 3",
      "language": "python",
      "name": "python3"
    },
    "language_info": {
      "codemirror_mode": {
        "name": "ipython",
        "version": 3
      },
      "file_extension": ".py",
      "mimetype": "text/x-python",
      "name": "python",
      "nbconvert_exporter": "python",
      "pygments_lexer": "ipython3",
      "version": "3.6.8"
    },
    "colab": {
      "name": "Green Screen.ipynb",
      "provenance": []
    }
  },
  "cells": [
    {
      "cell_type": "code",
      "metadata": {
        "id": "eA9HUQGU8jwn"
      },
      "source": [
        "import numpy as np"
      ],
      "execution_count": null,
      "outputs": []
    },
    {
      "cell_type": "markdown",
      "metadata": {
        "id": "POXRY81g9GgW"
      },
      "source": [
        "Finding aTd"
      ]
    },
    {
      "cell_type": "code",
      "metadata": {
        "id": "FsQoOCNH8jwv"
      },
      "source": [
        "#origin of a at [0,0,0]\n",
        "\n",
        "a = np.array([0, 0, 0])\n",
        "af = np.eye(3)\n",
        "\n",
        "d = np.array([-1, 1, 0])\n",
        "\n",
        "#rotations\n",
        "df = np.eye(3) \n",
        "\n",
        "\n",
        "#fixed frame\n",
        "M = np.zeros([4, 4])\n",
        "M[0:3, 0:3] = df\n",
        "M[3,3] = 1\n",
        "M[0:3, 3] = d - a\n",
        "aTd = M\"global_best_model_vgg16.h5\"\n",
        "print(aTd)"
      ],
      "execution_count": null,
      "outputs": []
    },
    {
      "cell_type": "markdown",
      "metadata": {
        "id": "htyQultp9RyU"
      },
      "source": [
        "Finding cTd"
      ]
    },
    {
      "cell_type": "code",
      "metadata": {
        "id": "kUzuOiIt8jw2"
      },
      "source": [
        "c = np.array([-1, 1, 2])\n",
        "\n",
        "a_points = np.array([[1, 0, 0], [0, 1, 0], [0, 0, 1]]).T\n",
        "c_points = np.array([[0, 1, 0],[1, 0, 0],[0, 0, -1]]).T\n",
        "cf = np.dot(a_points, np.linalg.inv(c_points))\n",
        "\n",
        "#camera transform\n",
        "C = np.zeros([4, 4])\n",
        "C[0:3, 0:3] = cf\n",
        "C[3,3] = 1\n",
        "C[0:3, 3] = c - a\n",
        "\n",
        "#transform to fixed frame\n",
        "C_inv = np.linalg.inv(C)\n",
        "\n",
        "\n",
        "#Worksapce to camera\n",
        "cTd = np.dot(C_inv, aTd)\n",
        "print(cTd)"
      ],
      "execution_count": null,
      "outputs": []
    },
    {
      "cell_type": "markdown",
      "metadata": {
        "id": "uL_1hvp69gum"
      },
      "source": [
        "Finding aTb"
      ]
    },
    {
      "cell_type": "code",
      "metadata": {
        "id": "rajPRqYq8jw7"
      },
      "source": [
        "# camera to effector\n",
        "bTc = np.array([[1, 0, 0, 4], [0, 1, 0, 0], [0, 1, 0, 0], [0, 0, 0, 1]])\n",
        "\n",
        "#back to camera\n",
        "bTc_inv = np.linalg.pinv(bTc)\n",
        "\n",
        "#to fixed frame\n",
        "aTb = np.dot(C, bTc_inv)\n",
        "print(aTb)"
      ],
      "execution_count": null,
      "outputs": []
    },
    {
      "cell_type": "markdown",
      "metadata": {
        "id": "gEgh9k-69uW1"
      },
      "source": [
        "Question 2, A - 2"
      ]
    },
    {
      "cell_type": "code",
      "metadata": {
        "id": "V8yp5DaY8jw_"
      },
      "source": [
        "\n",
        "a = np.array([0, 0, 0])\n",
        "af = np.eye(3)\n",
        "d = np.array([-(np.sqrt(2) -1), 1 + np.sqrt(2), 2]) #initial position\n",
        "df = np.array([[np.cos(np.pi/4), np.sin(np.pi/4), 0], [-np.sin(np.pi/4), np.cos(np.pi/4), 0], [0, 0, 1]])\n",
        "M = np.zeros([4,4])\n",
        "M[0:3, 0:3] = df\n",
        "M[3,3] = 1\n"
      ],
      "execution_count": null,
      "outputs": []
    },
    {
      "cell_type": "code",
      "metadata": {
        "id": "5lvmBd9E8jxD"
      },
      "source": [
        "ts = np.arange(0, 1.1, 0.1)\n",
        "\n",
        "v1_t = np.array([np.cos(np.pi/4), -np.sin(np.pi/4), 0])\n",
        "\n",
        "for t in ts:\n",
        "    d_t = (d + v1_t * t) - a\n",
        "    M[0:3, 3] = d_t\n",
        "    print(M, end='\\n\\n')"
      ],
      "execution_count": null,
      "outputs": []
    }
  ]
}