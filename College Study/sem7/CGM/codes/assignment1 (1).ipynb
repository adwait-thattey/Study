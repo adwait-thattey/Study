{
 "cells": [
  {
   "cell_type": "code",
   "execution_count": 18,
   "metadata": {},
   "outputs": [],
   "source": [
    "from sympy import *\n",
    "import numpy as np\n",
    "import matplotlib.pyplot as plt\n",
    "from mpl_toolkits.mplot3d import Axes3D\n",
    "import math"
   ]
  },
  {
   "cell_type": "code",
   "execution_count": 19,
   "metadata": {},
   "outputs": [],
   "source": [
    "# These are the parameters that can be tweaked\n",
    "N = 1000\n",
    "TMAX=1\n",
    "TMIN=0\n",
    "numiters = 1000\n",
    "epsilon=0.05\n",
    "\n",
    "\n",
    "T = Symbol('T')\n",
    "Tvals = np.linspace(TMIN,TMAX,N)\n",
    "\n",
    "# for 1st part, we have taken curve as => r(t) = 2ti + (1-3t)j + (5+4t)k\n",
    "X = 2*T\n",
    "Y = 1-3*T\n",
    "Z = 5+4*T\n",
    "\n",
    "# Part 2, cubic Bezier curve segment  these are the 4 points taken. \n",
    "# P(t) = (1−t)3P1 + 3(1−t)2tP2 +3(1−t)t2P3 + t3P4\n",
    "\n",
    "########\n",
    "#To use part 2 (cubic Bezier curve segment), uncomment everything below in this cell\n",
    "#########\n",
    "\n",
    "P1 = [10,10,10]\n",
    "P2 = [0,5,10]\n",
    "P3 = [0,0,10]\n",
    "P4 = [10,0,0]\n",
    "\n",
    "def get_eq(m):\n",
    "     return ((1-T)**3)*P1[m] + 3*((1-T)**2)*T*P2[m] + 3*(1-T)*(T**2)*P3[m] + (T**3)*P4[m]\n",
    "X = get_eq(0)\n",
    "Y = get_eq(1)\n",
    "Z = get_eq(2)\n",
    "\n"
   ]
  },
  {
   "cell_type": "code",
   "execution_count": 20,
   "metadata": {},
   "outputs": [
    {
     "name": "stdout",
     "output_type": "stream",
     "text": [
      "X= 10*T**3 + 10*(1 - T)**3\n",
      "Y= 15*T*(1 - T)**2 + 10*(1 - T)**3\n",
      "Z= 10*T**2*(3 - 3*T) + 30*T*(1 - T)**2 + 10*(1 - T)**3\n",
      "Equation => r(t) = (10*T**3 + 10*(1 - T)**3)i + (15*T*(1 - T)**2 + 10*(1 - T)**3)j + (10*T**2*(3 - 3*T) + 30*T*(1 - T)**2 + 10*(1 - T)**3)k\n"
     ]
    },
    {
     "data": {
      "image/png": "[encoded data removed]",
      "text/plain": [
       "<Figure size 432x288 with 1 Axes>"
      ]
     },
     "metadata": {
      "needs_background": "light"
     },
     "output_type": "display_data"
    }
   ],
   "source": [
    "print(\"X=\",X)\n",
    "print(\"Y=\",Y)\n",
    "print(\"Z=\",Z)\n",
    "fx = lambdify(T,X,'numpy')\n",
    "Xvals = fx(Tvals)\n",
    "fy = lambdify(T,Y,'numpy')\n",
    "Yvals = fy(Tvals)\n",
    "fz = lambdify(T,Z,'numpy')\n",
    "Zvals = fz(Tvals)\n",
    "r = [X,Y,Z] # this is the actual curve in i,j,k components\n",
    "print(f\"Equation => r(t) = ({X})i + ({Y})j + ({Z})k\")\n",
    "fig = plt.figure()\n",
    "ax = plt.axes(projection=\"3d\")\n",
    "ax.plot3D(Xvals,Yvals, 'red')\n",
    "ax.set_xlabel(\"xaxis\")\n",
    "ax.set_ylabel(\"yaxis\")\n",
    "plt.show()"
   ]
  },
  {
   "cell_type": "code",
   "execution_count": 21,
   "metadata": {},
   "outputs": [],
   "source": [
    "def velocityexp(function):\n",
    "    \"\"\"\n",
    "    This function computes the expression for velocity of each component by using derivatives\n",
    "    \"\"\"\n",
    "    vel = [i.diff(T) for i in function]\n",
    "    return vel\n",
    "\n",
    "def velocity(function, t=TMAX):\n",
    "    \"\"\"\n",
    "    This function computes the actual velocity in values\n",
    "    \"\"\"\n",
    "    vel = velocityexp(function)\n",
    "    nums = int(t*N/TMAX)\n",
    "    vel_vals =  [lambdify(T,i,'numpy')(Tvals)[:nums] if not i.is_constant() else np.full_like(Tvals, i)[:nums] for i in vel]\n",
    "    return vel_vals\n",
    "\n",
    "def speed(function, t=TMAX):\n",
    "    \"\"\"\n",
    "    This computes the speed using the velocity\n",
    "    \"\"\"\n",
    "    nums = int(t*N/TMAX)\n",
    "    vel_vals = velocity(function, t)\n",
    "    squared_sum = vel_vals[0]*vel_vals[0]\n",
    "    for i in vel_vals[1:]:\n",
    "        squared_sum += i*i\n",
    "    return np.sqrt(squared_sum)\n"
   ]
  },
  {
   "cell_type": "code",
   "execution_count": 22,
   "metadata": {},
   "outputs": [],
   "source": [
    "def Arclength(function,tval):\n",
    "    \"\"\"\n",
    "    This function computes the arclength till a given t value\n",
    "    by doing numeric integration\n",
    "    np.trapz is being used for integration\n",
    "    \"\"\"\n",
    "    nums = int(tval*N/TMAX)\n",
    "    sp = speed(r,tval)\n",
    "    return np.trapz(speed(r,tval),Tvals[:nums])"
   ]
  },
  {
   "cell_type": "code",
   "execution_count": 23,
   "metadata": {},
   "outputs": [
    {
     "name": "stdout",
     "output_type": "stream",
     "text": [
      "Total length= 23.203433402020263\n",
      "Make sure you choose the s below between 0 and total length\n"
     ]
    }
   ],
   "source": [
    "L = Arclength(r,TMAX)\n",
    "print(\"Total length=\",L)\n",
    "print(\"Make sure you choose the s below between 0 and total length\")"
   ]
  },
  {
   "cell_type": "code",
   "execution_count": 24,
   "metadata": {},
   "outputs": [],
   "source": [
    "def GetCurveParameter(function, s):\n",
    "    \"\"\"\n",
    "    This is the main function for getting the curve parameter\n",
    "    \"\"\"\n",
    "    t = TMIN + (TMAX-TMIN)*(s/L)\n",
    "    lower = TMIN\n",
    "    upper=TMAX\n",
    "    for it in range(numiters):\n",
    "        F = Arclength(r,t) - s\n",
    "        if abs(F) <= epsilon:\n",
    "            return t\n",
    "        dFdt = speed(r,t)[-1]\n",
    "        tcandidate = t - F/dFdt\n",
    "        if (F>0) :\n",
    "            upper=t\n",
    "            if (tcandidate <= lower):\n",
    "                t = (upper+lower)/2\n",
    "            else:\n",
    "                t = tcandidate\n",
    "        else:\n",
    "            lower=t\n",
    "            if tcandidate >=upper:\n",
    "                t = (upper+lower)/2\n",
    "            else:\n",
    "                t = tcandidate\n",
    "    return t\n",
    "\n",
    "        "
   ]
  },
  {
   "cell_type": "code",
   "execution_count": 25,
   "metadata": {},
   "outputs": [
    {
     "name": "stdout",
     "output_type": "stream",
     "text": [
      "t for given arclength s=1 is  0.031502896205294645\n"
     ]
    }
   ],
   "source": [
    "# choose s betweeen 0 and L\n",
    "s=1 # s=1 for unit parameterization\n",
    "finalt = GetCurveParameter(r,s)\n",
    "print(f\"t for given arclength s={s} is \", finalt)"
   ]
  }
 ],
 "metadata": {
  "kernelspec": {
   "display_name": "Python 3",
   "language": "python",
   "name": "python3"
  },
  "language_info": {
   "codemirror_mode": {
    "name": "ipython",
    "version": 3
   },
   "file_extension": ".py",
   "mimetype": "text/x-python",
   "name": "python",
   "nbconvert_exporter": "python",
   "pygments_lexer": "ipython3",
   "version": "3.8.5"
  }
 },
 "nbformat": 4,
 "nbformat_minor": 4
}
