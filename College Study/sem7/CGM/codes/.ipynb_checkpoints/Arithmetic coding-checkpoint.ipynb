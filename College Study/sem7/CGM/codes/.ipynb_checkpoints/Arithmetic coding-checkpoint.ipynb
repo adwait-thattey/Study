{
 "cells": [
  {
   "cell_type": "code",
   "execution_count": 13,
   "metadata": {
    "scrolled": true
   },
   "outputs": [
    {
     "name": "stdout",
     "output_type": "stream",
     "text": [
      "['AZHNELGHIJ']\n",
      "10\n",
      "{'A': 0.1, 'Z': 0.1, 'H': 0.1, 'N': 0.1, 'E': 0.1, 'L': 0.1, 'G': 0.1, 'I': 0.1, 'J': 0.1}\n"
     ]
    }
   ],
   "source": [
    "import random\n",
    "# table in order\n",
    "chars=['A', 'Z', 'H', 'N', 'E', 'L', 'G', 'H', 'I', 'J']\n",
    "l = chars.split()\n",
    "random.shuffle(l)\n",
    "print(l)\n",
    "print(len(chars))\n",
    "probability_table = [(i,float(1/len(chars))) for i in chars]\n",
    "prob_dict = {i[0]:i[1] for i in probability_table}\n",
    "i=0\n",
    "print(prob_dict)\n",
    "range_table = dict()\n",
    "\n"
   ]
  },
  {
   "cell_type": "code",
   "execution_count": 10,
   "metadata": {},
   "outputs": [
    {
     "name": "stdout",
     "output_type": "stream",
     "text": [
      "J {'A': (0, 0.1), 'B': (0.1, 0.2), 'C': (0.2, 0.30000000000000004), 'N': (0.30000000000000004, 0.4), 'E': (0.4, 0.5), 'F': (0.5, 0.6), 'G': (0.6, 0.7), 'H': (0.7, 0.7999999999999999), 'I': (0.7999999999999999, 0.8999999999999999), 'J': (0.8999999999999999, 0.9999999999999999)} \n",
      "\n",
      "\n",
      "E {'A': (0.8999999999999999, 0.9099999999999999), 'B': (0.9099999999999999, 0.9199999999999999), 'C': (0.9199999999999999, 0.9299999999999999), 'N': (0.9299999999999999, 0.94), 'E': (0.94, 0.95), 'F': (0.95, 0.96), 'G': (0.96, 0.97), 'H': (0.97, 0.98), 'I': (0.98, 0.99), 'J': (0.99, 1.0)} \n",
      "\n",
      "\n",
      "N {'A': (0.94, 0.941), 'B': (0.941, 0.942), 'C': (0.942, 0.943), 'N': (0.943, 0.944), 'E': (0.944, 0.945), 'F': (0.945, 0.946), 'G': (0.946, 0.947), 'H': (0.947, 0.948), 'I': (0.948, 0.949), 'J': (0.949, 0.95)} \n",
      "\n",
      "\n",
      "G {'A': (0.943, 0.9430999999999999), 'B': (0.9430999999999999, 0.9431999999999999), 'C': (0.9431999999999999, 0.9432999999999999), 'N': (0.9432999999999999, 0.9433999999999999), 'E': (0.9433999999999999, 0.9434999999999999), 'F': (0.9434999999999999, 0.9435999999999999), 'G': (0.9435999999999999, 0.9436999999999999), 'H': (0.9436999999999999, 0.9437999999999999), 'I': (0.9437999999999999, 0.9438999999999999), 'J': (0.9438999999999999, 0.9439999999999998)} \n",
      "\n",
      "\n",
      "A {'A': (0.9435999999999999, 0.9436099999999998), 'B': (0.9436099999999998, 0.9436199999999998), 'C': (0.9436199999999998, 0.9436299999999997), 'N': (0.9436299999999997, 0.9436399999999997), 'E': (0.9436399999999997, 0.9436499999999997), 'F': (0.9436499999999997, 0.9436599999999996), 'G': (0.9436599999999996, 0.9436699999999996), 'H': (0.9436699999999996, 0.9436799999999995), 'I': (0.9436799999999995, 0.9436899999999995), 'J': (0.9436899999999995, 0.9436999999999994)} \n",
      "\n",
      "\n",
      "0.9435999999999999 0.9436099999999998\n"
     ]
    }
   ],
   "source": [
    "inp_str = \"JENGA\"\n",
    "\n",
    "cur_range = [0,1]\n",
    "\n",
    "for i in inp_str:\n",
    "    \n",
    "    start=cur_range[0]\n",
    "    for ix in probability_table:\n",
    "        high_lr = start + (cur_range[1] - cur_range[0])*prob_dict[ix[0]]\n",
    "        range_table[ix[0]] = (start,high_lr)\n",
    "        start=high_lr\n",
    "    \n",
    "    print(i, range_table, \"\\n\\n\")\n",
    "    cur_range[0] = range_table[i][0]\n",
    "    cur_range[1] = range_table[i][1]\n",
    "\n",
    "print(cur_range[0], cur_range[1])\n",
    "        "
   ]
  },
  {
   "cell_type": "code",
   "execution_count": 15,
   "metadata": {},
   "outputs": [
    {
     "ename": "TypeError",
     "evalue": "sequence item 0: expected str instance, int found",
     "output_type": "error",
     "traceback": [
      "\u001b[0;31m---------------------------------------------------------------------------\u001b[0m",
      "\u001b[0;31mTypeError\u001b[0m                                 Traceback (most recent call last)",
      "\u001b[0;32m<ipython-input-15-5e629072eda4>\u001b[0m in \u001b[0;36m<module>\u001b[0;34m\u001b[0m\n\u001b[1;32m      2\u001b[0m \u001b[0mk\u001b[0m \u001b[0;34m=\u001b[0m \u001b[0;36m1\u001b[0m\u001b[0;34m\u001b[0m\u001b[0;34m\u001b[0m\u001b[0m\n\u001b[1;32m      3\u001b[0m \u001b[0;34m\u001b[0m\u001b[0m\n\u001b[0;32m----> 4\u001b[0;31m \u001b[0;32mwhile\u001b[0m \u001b[0mint\u001b[0m\u001b[0;34m(\u001b[0m\u001b[0;34m(\u001b[0m\u001b[0;34m\"0.\"\u001b[0m \u001b[0;34m+\u001b[0m \u001b[0;34m\"\"\u001b[0m\u001b[0;34m.\u001b[0m\u001b[0mjoin\u001b[0m\u001b[0;34m(\u001b[0m\u001b[0mbitstr\u001b[0m\u001b[0;34m)\u001b[0m\u001b[0;34m)\u001b[0m\u001b[0;34m,\u001b[0m\u001b[0;36m2\u001b[0m\u001b[0;34m)\u001b[0m \u001b[0;34m<\u001b[0m \u001b[0mcur_range\u001b[0m\u001b[0;34m[\u001b[0m\u001b[0;36m0\u001b[0m\u001b[0;34m]\u001b[0m \u001b[0;34m:\u001b[0m\u001b[0;34m\u001b[0m\u001b[0;34m\u001b[0m\u001b[0m\n\u001b[0m\u001b[1;32m      5\u001b[0m     \u001b[0mbitstr\u001b[0m\u001b[0;34m[\u001b[0m\u001b[0;34m-\u001b[0m\u001b[0;36m1\u001b[0m\u001b[0;34m]\u001b[0m \u001b[0;34m=\u001b[0m \u001b[0;36m1\u001b[0m\u001b[0;34m\u001b[0m\u001b[0;34m\u001b[0m\u001b[0m\n\u001b[1;32m      6\u001b[0m     \u001b[0;32mif\u001b[0m \u001b[0mint\u001b[0m\u001b[0;34m(\u001b[0m\u001b[0;34m\"0.\"\u001b[0m\u001b[0;34m+\u001b[0m\u001b[0;34m\"\"\u001b[0m\u001b[0;34m.\u001b[0m\u001b[0mjoin\u001b[0m\u001b[0;34m(\u001b[0m\u001b[0mbitstr\u001b[0m\u001b[0;34m)\u001b[0m\u001b[0;34m,\u001b[0m\u001b[0;36m2\u001b[0m\u001b[0;34m)\u001b[0m \u001b[0;34m>\u001b[0m \u001b[0mcur_range\u001b[0m\u001b[0;34m[\u001b[0m\u001b[0;36m1\u001b[0m\u001b[0;34m]\u001b[0m\u001b[0;34m:\u001b[0m\u001b[0;34m\u001b[0m\u001b[0;34m\u001b[0m\u001b[0m\n",
      "\u001b[0;31mTypeError\u001b[0m: sequence item 0: expected str instance, int found"
     ]
    }
   ],
   "source": [
    "bitstr = [0,]\n",
    "k = 1\n",
    "\n",
    "while int((\"0.\" + \"\".join(bitstr)),2) < cur_range[0] :\n",
    "    bitstr[-1] = 1\n",
    "    if int(\"0.\"+\"\".join(bitstr),2) > cur_range[1]:\n",
    "        bitstr[-1] = 0\n",
    "    \n",
    "    bitstr.append(0)\n",
    "    \n",
    "print(bitstr)\n",
    "    "
   ]
  }
 ],
 "metadata": {
  "kernelspec": {
   "display_name": "Python 3",
   "language": "python",
   "name": "python3"
  },
  "language_info": {
   "codemirror_mode": {
    "name": "ipython",
    "version": 3
   },
   "file_extension": ".py",
   "mimetype": "text/x-python",
   "name": "python",
   "nbconvert_exporter": "python",
   "pygments_lexer": "ipython3",
   "version": "3.8.6"
  }
 },
 "nbformat": 4,
 "nbformat_minor": 4
}
