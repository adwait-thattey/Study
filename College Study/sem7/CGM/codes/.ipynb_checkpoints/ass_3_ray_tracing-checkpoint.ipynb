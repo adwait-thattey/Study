{
 "cells": [
  {
   "cell_type": "code",
   "execution_count": 10,
   "metadata": {
    "pycharm": {
     "name": "#%%\n"
    }
   },
   "outputs": [],
   "source": [
    "import numpy as np\n",
    "import matplotlib.pyplot as plt\n",
    "from numba import jit, cuda\n",
    "from mpl_toolkits.mplot3d import Axes3D"
   ]
  },
  {
   "cell_type": "code",
   "execution_count": 11,
   "metadata": {
    "pycharm": {
     "name": "#%%\n"
    }
   },
   "outputs": [],
   "source": [
    "def temp_log(reason, *args):\n",
    "    nolog = list()\n",
    "    nolog.append(\"full_image\")\n",
    "    nolog.append(\"gett\")\n",
    "    nolog.append(\"rltest\")\n",
    "    nolog.append(\"trace1\")\n",
    "    if reason in nolog:\n",
    "        return\n",
    "    print(*args)"
   ]
  },
  {
   "cell_type": "code",
   "execution_count": 12,
   "metadata": {},
   "outputs": [],
   "source": [
    "def normalize(vector):\n",
    "    return vector / np.linalg.norm(vector)\n",
    "\n",
    "class PlaneEquation:\n",
    "    def __init__(self, a=None,b=None,c=None,d=None):\n",
    "        self.a = a\n",
    "        self.b = b\n",
    "        self.c = c\n",
    "        self.d = d\n",
    "\n",
    "class Face:\n",
    "    def __init__(self, v1, v2, v3, v4):\n",
    "        # A face of 4 vertices\n",
    "        self.vertices = np.array([v1,v2,v3,v4])\n",
    "        self.normal = None\n",
    "        self.equation = PlaneEquation()\n",
    "        self.color = np.array([255,255,255])\n",
    "\n",
    "    def __repr__(self):\n",
    "        # return f\"face {self.vertices}, color {self.color}\"\n",
    "        return f\"face, color {self.color}\"\n",
    "\n",
    "    def check_coplaner(self):\n",
    "        c1 = np.cross(self.vertices[0] - self.vertices[1], self.vertices[1] - self.vertices[2])\n",
    "        c2 = np.cross(self.vertices[1] - self.vertices[2], self.vertices[2] - self.vertices[3])\n",
    "        c3 = np.cross(self.vertices[2] - self.vertices[3], self.vertices[3] - self.vertices[0])\n",
    "        c4 = np.cross(self.vertices[3] - self.vertices[0], self.vertices[1] - self.vertices[2])\n",
    "\n",
    "        cc1 = np.cross(c1,c2)\n",
    "        cc2 = np.cross(c1,c3)\n",
    "        cc3 = np.cross(c1,c4)\n",
    "\n",
    "        if np.linalg.norm(cc1)!=0 :\n",
    "            raise ValueError(f\"Face points not coplanar, vertices = {self.vertices}. Failed for c1, c2. c1={c1} c2={c2}  \")\n",
    "\n",
    "        if np.linalg.norm(cc2)!=0 :\n",
    "            raise ValueError(f\"Face points not coplanar, vertices = {self.vertices}. Failed for c1, c3. c1={c1} c3={c3}  \")\n",
    "\n",
    "        if np.linalg.norm(cc3)!=0 :\n",
    "            raise ValueError(f\"Face points not coplanar, vertices = {self.vertices}. Failed for c1, c4. c1={c1} c4={c4}  \")\n",
    "\n",
    "    def build_normal(self):\n",
    "        cross = np.cross(self.vertices[1] - self.vertices[0], self.vertices[2] - self.vertices[0])\n",
    "        self.normal = normalize(cross)\n",
    "\n",
    "        D = -1*np.dot(self.normal, self.vertices[0])\n",
    "        self.equation.d  = D\n",
    "\n",
    "    def set_color(self, color):\n",
    "        self.color = color\n",
    "    # def build_equation(self):\n",
    "    #     vec1 = self.vertices[2] - self.vertices[0]\n",
    "    #     vec2 = self.vertices[1] - self.vertices[0]\n",
    "    #\n",
    "    #     cp = np.cross(vec1, vec2)\n",
    "    #\n",
    "    #     a,b,c = cp\n",
    "    #     d = -1* np.dot(cp,self.vertices[2])\n",
    "    #\n",
    "    #     self.equation = np.array([a,b,c,d])\n",
    "\n",
    "    def process(self):\n",
    "        self.check_coplaner()\n",
    "        self.build_normal()\n",
    "        # self.build_equation()\n",
    "\n",
    "class SceneObject:\n",
    "    def __init__(self, name=\"\"):\n",
    "        self.name = name\n",
    "        self.vertices = list()\n",
    "        self.faces = list()\n",
    "\n",
    "        self.is_finished = False\n",
    "\n",
    "        self.color_params = {}\n",
    "\n",
    "    def add_vertex(self, x, y, z):\n",
    "        self.vertices.append(np.array([x,y,z]))\n",
    "\n",
    "    def add_face(self, v1,v2,v3,v4):\n",
    "        # v1,v2,v3,v4 are the index of vertices. Not actual vector\n",
    "        face = Face(self.vertices[v1], self.vertices[v2], self.vertices[v3], self.vertices[v4])\n",
    "        face.process()\n",
    "        self.faces.append(face)\n",
    "\n",
    "\n",
    "class CameraScreenImage:\n",
    "    def __init__(self,s0, s1, s2, s3, dd=10):\n",
    "        self.dd = dd # distance of camera to screen center\n",
    "        self.screen_vertices = np.array([s0,s1,s2,s3])\n",
    "        self.screen_normal_dir = normalize(np.cross(s1 - s0,s3 - s0))\n",
    "        def vavg(ix):\n",
    "            return (s0[ix] + s1[ix] + s2[ix] + s3[ix])/float(4)\n",
    "        self.screen_center = np.array([vavg(0), vavg(1), vavg(2)])\n",
    "        self.camera = self.screen_center + self.screen_normal_dir*dd\n",
    "        self.height = int(np.floor(np.linalg.norm(s1-s0)))\n",
    "        self.width = int(np.floor(np.linalg.norm(s2-s1)))\n",
    "\n",
    "\n",
    "\n",
    "        self.image = np.zeros((self.height, self.width, 3))\n",
    "\n",
    "        temp_log(\"camera\",\"[CAMERA-SCREEN]:\", f\"Camera at {self.camera}. Screen Center at {self.screen_center}. Height {self.height}  Width {self.width}\" )\n",
    "    # def print_image_values(self):\n",
    "    #     for i in self.image:\n",
    "    #         for j in self.image[i]:\n",
    "    #             print(i,j,self.image[i][j])"
   ]
  },
  {
   "cell_type": "code",
   "execution_count": 13,
   "metadata": {
    "pycharm": {
     "name": "#%%\n"
    }
   },
   "outputs": [],
   "source": [
    "\n",
    "\n",
    "# print(image)"
   ]
  },
  {
   "cell_type": "code",
   "execution_count": 14,
   "metadata": {
    "pycharm": {
     "name": "#%%\n"
    }
   },
   "outputs": [],
   "source": [
    "def get_all_faces(objects):\n",
    "    faces = []\n",
    "    for o in objects:\n",
    "        faces.extend(o.faces)\n",
    "\n",
    "    return faces\n",
    "\n",
    "@jit(target =\"cuda\")\n",
    "def get_intersection_t_if_ray_intersects_face(origin, ray_direction, face:Face):\n",
    "    temp_log(\"gett\", f\"[GET T INIT]: Origin: {origin}, Face: {face}, Normal: {face.normal}, D: {face.equation.d}\")\n",
    "    fnorm_R_dot = np.dot(ray_direction, face.normal)\n",
    "    temp_log(\"gett\", f\"[GET T]: normal.ray_dir {fnorm_R_dot}\")\n",
    "    # if dot is 0, plane and ray parallel\n",
    "    # print(\"fnorm_dir_dot\", fnorm_R_dot)\n",
    "    if fnorm_R_dot == 0:\n",
    "        return False,None # parallel ray\n",
    "\n",
    "    if fnorm_R_dot > 0:\n",
    "        return False,None # back side face\n",
    "\n",
    "    numerator = np.dot(face.normal, origin) + face.equation.d\n",
    "    temp_log(\"gett\", f\"[GET T]: numerator: dot(N, O) + D = {numerator}\")\n",
    "    # print(\"numerator\", numerator)\n",
    "    t = numerator / -1*fnorm_R_dot\n",
    "    temp_log(\"gett\", f\"[GET T]: Final T {t}\")\n",
    "\n",
    "    return True, t\n",
    "\n",
    "def right_left_test_for_face(face:Face, point):\n",
    "\n",
    "\n",
    "    c = np.cross(face.vertices[1] - face.vertices[0], point - face.vertices[0])\n",
    "    d1 = np.dot(face.normal, c) > 0\n",
    "\n",
    "    c = np.cross(face.vertices[2] - face.vertices[1], point - face.vertices[1])\n",
    "    d2 = np.dot(face.normal, c) > 0\n",
    "\n",
    "    c = np.cross(face.vertices[3] - face.vertices[2], point - face.vertices[2])\n",
    "    d3 = np.dot(face.normal, c) > 0\n",
    "\n",
    "    c = np.cross(face.vertices[0] - face.vertices[3], point - face.vertices[3])\n",
    "    d4 = np.dot(face.normal, c) > 0\n",
    "\n",
    "    temp_log(\"rltest\", f\"[RL TEST]: d1 {d1} d2 {d2} d3 {d3} d4 {d4}\")\n",
    "    if d1 == d2 == d3 == d4 == True :\n",
    "        return True\n",
    "\n",
    "    return False\n",
    "\n",
    "height_enum = lambda camscreen: enumerate(np.linspace(camscreen.screen_vertices[1][1],camscreen.screen_vertices[0][1],camscreen.height))\n",
    "width_enum = lambda camscreen: enumerate(np.linspace(camscreen.screen_vertices[1][0], camscreen.screen_vertices[2][0], camscreen.width))\n",
    "\n",
    "\n",
    "def trace_for_1_pixel(camscreen:CameraScreenImage,all_faces,row,col, y=None, x=None):\n",
    "    if y is None:\n",
    "        y = list(height_enum(camscreen))[row][1]\n",
    "        temp_log(\"trace1\",f\"[TRACE {row} {col} ]: generated y {y}\")\n",
    "    if x is None:\n",
    "        x = list(width_enum(camscreen))[col][1]\n",
    "        temp_log(\"trace1\",f\"[TRACE {row} {col} ]: generated x {x}\")\n",
    "\n",
    "    temp_log(\"trace1\",f\"[TRACE {row} {col} ]: Tracing for x,y {x} {y}\")\n",
    "    cur_pos = np.array([x,y,0])\n",
    "    ray_dir = normalize(cur_pos - camscreen.camera)\n",
    "    ray_dir = -1*normalize(np.cross(camscreen.screen_vertices[1] - camscreen.screen_vertices[0], camscreen.screen_vertices[2] - camscreen.screen_vertices[0]))\n",
    "    temp_log(\"trace1\",f\"[TRACE {row} {col} ]: Ray Direction: {ray_dir}\")\n",
    "\n",
    "    face_t_list = list()\n",
    "    for face in all_faces:\n",
    "        t_exists,T = get_intersection_t_if_ray_intersects_face(cur_pos, ray_dir, face)\n",
    "        if t_exists == True:\n",
    "            if T > 0:\n",
    "            # if T > camscreen.dd:\n",
    "                point = cur_pos + T*ray_dir\n",
    "                temp_log(\"trace1\",f\"[TRACE {row} {col} ]: Point {point} at T {T}\")\n",
    "                if right_left_test_for_face(face, point):\n",
    "                    temp_log(\"trace1\",f\"[TRACE {row} {col} ]: Point {point} inside bounds\")\n",
    "                    # print(\"ray dir: \", ray_dir, \"vertices\",face.vertices,\"fnorm:\", face.normal, \"point:\",point)\n",
    "                    face_t_list.append([face,T])\n",
    "    if face_t_list:\n",
    "        face_t_list.sort(key=lambda pair: pair[1])\n",
    "        temp_log(\"trace1\",f\"[TRACE {row} {col} :] Match {face_t_list} -- Chosen {face_t_list[0]}\")\n",
    "        camscreen.image[row,col] = np.clip(face_t_list[0][0].color,0,1)\n",
    "\n",
    "    temp_log(\"trace1\",\"\\n\")\n",
    "def build_for_each_screen_pixel(camscreen:CameraScreenImage, all_faces):\n",
    "    for i, y in height_enum(camscreen):\n",
    "        for j, x in width_enum(camscreen):\n",
    "            # print(\"\\n\",i,j, end=\" -- \")\n",
    "            trace_for_1_pixel(camscreen,all_faces,row=i,col=j,y=y,x=x)\n",
    "\n"
   ]
  },
  {
   "cell_type": "code",
   "execution_count": 15,
   "metadata": {
    "pycharm": {
     "name": "#%%\n"
    }
   },
   "outputs": [],
   "source": [
    "\n",
    "def driver():\n",
    "    # cam_screen = CameraScreenImage(\n",
    "    #     s0=np.array([-15,-10,0]),\n",
    "    #     s1 = np.array([-15,10,0]),\n",
    "    #     s2 = np.array([15,10,0]),\n",
    "    #     s3 = np.array([15,-10,0])\n",
    "    # )\n",
    "\n",
    "    xright = 40\n",
    "    ydown = 30\n",
    "    cam_screen = CameraScreenImage(\n",
    "        s0=np.array([-1*xright,-1*ydown,0]),\n",
    "        s1 = np.array([-1*xright,ydown,0]),\n",
    "        s2 = np.array([xright,ydown,0]),\n",
    "        s3 = np.array([xright,-1*ydown,0]),\n",
    "        dd=10\n",
    "    )\n",
    "\n",
    "    temp_log(\"full_image\",\"image before\",cam_screen.image)\n",
    "\n",
    "    obj1 = SceneObject(\"cube1\")\n",
    "    obj1scale = 3\n",
    "    offset = 10\n",
    "    obj1.add_vertex(0,0,5)\n",
    "    obj1.add_vertex(0,obj1scale*5,5)\n",
    "    obj1.add_vertex(obj1scale*5,obj1scale*5,5)\n",
    "    obj1.add_vertex(obj1scale*5,0,5)\n",
    "\n",
    "    obj1.add_vertex(0+offset,0+offset,10)\n",
    "    obj1.add_vertex(0+offset,obj1scale*5 +offset,10)\n",
    "    obj1.add_vertex(obj1scale*5 + offset,obj1scale*5 + offset,10)\n",
    "    obj1.add_vertex(obj1scale*5 + offset,0 + offset,10)\n",
    "\n",
    "    # obj1.add_vertex(1,1,10)\n",
    "    # obj1.add_vertex(1,6,10)\n",
    "    # obj1.add_vertex(6,6,10)\n",
    "    # obj1.add_vertex(6,1,10)\n",
    "\n",
    "\n",
    "    obj1.add_face(0,1,2,3)\n",
    "    obj1.add_face(4,5,1,0)\n",
    "    obj1.add_face(7,6,5,4)\n",
    "    obj1.add_face(3,2,6,7)\n",
    "    obj1.add_face(3,7,4,0)\n",
    "    obj1.add_face(1,5,6,2)\n",
    "\n",
    "    obj1.faces[0].set_color(np.array([0,0,255]))\n",
    "    obj1.faces[1].set_color(np.array([255,0,0]))\n",
    "    obj1.faces[2].set_color(np.array([0,255,0]))\n",
    "    obj1.faces[3].set_color(np.array([255,255,0]))\n",
    "    obj1.faces[4].set_color(np.array([255,0,255]))\n",
    "    obj1.faces[5].set_color(np.array([255,255,255]))\n",
    "\n",
    "\n",
    "\n",
    "\n",
    "    print(\"normal\", obj1.faces[0].normal)\n",
    "    print(\"face 0 D\", obj1.faces[0].equation.d)\n",
    "\n",
    "    # compute ray 1\n",
    "    # chk = right_left_test_for_face(obj1.faces[0], np.array([0,-1,4.9]))\n",
    "    # print(\"right, left test:\", chk)\n",
    "\n",
    "    all_faces = get_all_faces([obj1])\n",
    "\n",
    "    # trace_for_1_pixel(cam_screen,all_faces,29,40)\n",
    "    build_for_each_screen_pixel(cam_screen,all_faces)\n",
    "    # temp_log(\"full_image\",cam_screen.image)\n",
    "\n",
    "    plt.imsave('image.png', cam_screen.image)\n",
    "    plt.imshow(cam_screen.image)\n",
    "    return cam_screen"
   ]
  },
  {
   "cell_type": "code",
   "execution_count": 16,
   "metadata": {
    "pycharm": {
     "name": "#%%\n"
    }
   },
   "outputs": [
    {
     "name": "stdout",
     "output_type": "stream",
     "text": [
      "[CAMERA-SCREEN]: Camera at [  0.   0. -10.]. Screen Center at [0. 0. 0.]. Height 60  Width 80\n",
      "normal [ 0.  0. -1.]\n",
      "face 0 D 5.0\n"
     ]
    },
    {
     "name": "stderr",
     "output_type": "stream",
     "text": [
      "/run/media/coderdude/Adwait/Softwares/conda3/lib/python3.7/site-packages/numba/cuda/decorators.py:113: UserWarning: autojit is deprecated and will be removed in a future release. Use jit instead.\n",
      "  warn('autojit is deprecated and will be removed in a future release. Use jit instead.')\n"
     ]
    },
    {
     "ename": "TypeError",
     "evalue": "__call__() got an unexpected keyword argument 'row'",
     "output_type": "error",
     "traceback": [
      "\u001b[0;31m---------------------------------------------------------------------------\u001b[0m",
      "\u001b[0;31mTypeError\u001b[0m                                 Traceback (most recent call last)",
      "\u001b[0;32m<ipython-input-16-bf64671d4c25>\u001b[0m in \u001b[0;36m<module>\u001b[0;34m\u001b[0m\n\u001b[0;32m----> 1\u001b[0;31m \u001b[0mcs\u001b[0m \u001b[0;34m=\u001b[0m \u001b[0mdriver\u001b[0m\u001b[0;34m(\u001b[0m\u001b[0;34m)\u001b[0m\u001b[0;34m\u001b[0m\u001b[0;34m\u001b[0m\u001b[0m\n\u001b[0m",
      "\u001b[0;32m<ipython-input-15-db802db3e7e8>\u001b[0m in \u001b[0;36mdriver\u001b[0;34m()\u001b[0m\n\u001b[1;32m     65\u001b[0m \u001b[0;34m\u001b[0m\u001b[0m\n\u001b[1;32m     66\u001b[0m     \u001b[0;31m# trace_for_1_pixel(cam_screen,all_faces,29,40)\u001b[0m\u001b[0;34m\u001b[0m\u001b[0;34m\u001b[0m\u001b[0;34m\u001b[0m\u001b[0m\n\u001b[0;32m---> 67\u001b[0;31m     \u001b[0mbuild_for_each_screen_pixel\u001b[0m\u001b[0;34m(\u001b[0m\u001b[0mcam_screen\u001b[0m\u001b[0;34m,\u001b[0m\u001b[0mall_faces\u001b[0m\u001b[0;34m)\u001b[0m\u001b[0;34m\u001b[0m\u001b[0;34m\u001b[0m\u001b[0m\n\u001b[0m\u001b[1;32m     68\u001b[0m     \u001b[0;31m# temp_log(\"full_image\",cam_screen.image)\u001b[0m\u001b[0;34m\u001b[0m\u001b[0;34m\u001b[0m\u001b[0;34m\u001b[0m\u001b[0m\n\u001b[1;32m     69\u001b[0m \u001b[0;34m\u001b[0m\u001b[0m\n",
      "\u001b[0;32m<ipython-input-14-386da3ad754d>\u001b[0m in \u001b[0;36mbuild_for_each_screen_pixel\u001b[0;34m(camscreen, all_faces)\u001b[0m\n\u001b[1;32m     87\u001b[0m         \u001b[0;32mfor\u001b[0m \u001b[0mj\u001b[0m\u001b[0;34m,\u001b[0m \u001b[0mx\u001b[0m \u001b[0;32min\u001b[0m \u001b[0mwidth_enum\u001b[0m\u001b[0;34m(\u001b[0m\u001b[0mcamscreen\u001b[0m\u001b[0;34m)\u001b[0m\u001b[0;34m:\u001b[0m\u001b[0;34m\u001b[0m\u001b[0;34m\u001b[0m\u001b[0m\n\u001b[1;32m     88\u001b[0m             \u001b[0;31m# print(\"\\n\",i,j, end=\" -- \")\u001b[0m\u001b[0;34m\u001b[0m\u001b[0;34m\u001b[0m\u001b[0;34m\u001b[0m\u001b[0m\n\u001b[0;32m---> 89\u001b[0;31m             \u001b[0mtrace_for_1_pixel\u001b[0m\u001b[0;34m(\u001b[0m\u001b[0mcamscreen\u001b[0m\u001b[0;34m,\u001b[0m\u001b[0mall_faces\u001b[0m\u001b[0;34m,\u001b[0m\u001b[0mrow\u001b[0m\u001b[0;34m=\u001b[0m\u001b[0mi\u001b[0m\u001b[0;34m,\u001b[0m\u001b[0mcol\u001b[0m\u001b[0;34m=\u001b[0m\u001b[0mj\u001b[0m\u001b[0;34m,\u001b[0m\u001b[0my\u001b[0m\u001b[0;34m=\u001b[0m\u001b[0my\u001b[0m\u001b[0;34m,\u001b[0m\u001b[0mx\u001b[0m\u001b[0;34m=\u001b[0m\u001b[0mx\u001b[0m\u001b[0;34m)\u001b[0m\u001b[0;34m\u001b[0m\u001b[0;34m\u001b[0m\u001b[0m\n\u001b[0m\u001b[1;32m     90\u001b[0m \u001b[0;34m\u001b[0m\u001b[0m\n",
      "\u001b[0;32m/run/media/coderdude/Adwait/Softwares/conda3/lib/python3.7/site-packages/numba/cuda/dispatcher.py\u001b[0m in \u001b[0;36m__call__\u001b[0;34m(self, *args, **kws)\u001b[0m\n\u001b[1;32m     40\u001b[0m \u001b[0;34m\u001b[0m\u001b[0m\n\u001b[1;32m     41\u001b[0m     \u001b[0;32mdef\u001b[0m \u001b[0m__call__\u001b[0m\u001b[0;34m(\u001b[0m\u001b[0mself\u001b[0m\u001b[0;34m,\u001b[0m \u001b[0;34m*\u001b[0m\u001b[0margs\u001b[0m\u001b[0;34m,\u001b[0m \u001b[0;34m**\u001b[0m\u001b[0mkws\u001b[0m\u001b[0;34m)\u001b[0m\u001b[0;34m:\u001b[0m\u001b[0;34m\u001b[0m\u001b[0;34m\u001b[0m\u001b[0m\n\u001b[0;32m---> 42\u001b[0;31m         \u001b[0;32mreturn\u001b[0m \u001b[0mself\u001b[0m\u001b[0;34m.\u001b[0m\u001b[0mcompiled\u001b[0m\u001b[0;34m(\u001b[0m\u001b[0;34m*\u001b[0m\u001b[0margs\u001b[0m\u001b[0;34m,\u001b[0m \u001b[0;34m**\u001b[0m\u001b[0mkws\u001b[0m\u001b[0;34m)\u001b[0m\u001b[0;34m\u001b[0m\u001b[0;34m\u001b[0m\u001b[0m\n\u001b[0m\u001b[1;32m     43\u001b[0m \u001b[0;34m\u001b[0m\u001b[0m\n\u001b[1;32m     44\u001b[0m     \u001b[0;32mdef\u001b[0m \u001b[0mdisable_compile\u001b[0m\u001b[0;34m(\u001b[0m\u001b[0mself\u001b[0m\u001b[0;34m,\u001b[0m \u001b[0mval\u001b[0m\u001b[0;34m=\u001b[0m\u001b[0;32mTrue\u001b[0m\u001b[0;34m)\u001b[0m\u001b[0;34m:\u001b[0m\u001b[0;34m\u001b[0m\u001b[0;34m\u001b[0m\u001b[0m\n",
      "\u001b[0;31mTypeError\u001b[0m: __call__() got an unexpected keyword argument 'row'"
     ]
    }
   ],
   "source": [
    "\n",
    "cs = driver()"
   ]
  },
  {
   "cell_type": "code",
   "execution_count": null,
   "metadata": {
    "pycharm": {
     "name": "#%%\n"
    }
   },
   "outputs": [],
   "source": [
    "# print(cs.image[19])"
   ]
  },
  {
   "cell_type": "code",
   "execution_count": null,
   "metadata": {
    "pycharm": {
     "name": "#%%\n"
    }
   },
   "outputs": [],
   "source": [
    "# test plot\n",
    "def test_plot_3d():\n",
    "    x, y, z = np.indices((20, 20, 20))\n",
    "\n",
    "    # draw cuboids in the top left and bottom right corners, and a link between them\n",
    "    # cube1 = (x < 3) & (y < 3) & (z < 3)\n",
    "    shape1 = (x >= 10) & (x < 15) & (y >= 10) & (y <= 15) & (z >= 10) & (z < 15)\n",
    "    # link = abs(x - y) + abs(y - z) + abs(z - x) <= 2\n",
    "\n",
    "    # combine the objects into a single boolean array\n",
    "    voxels = shape1 #cube1 | cube2 | link\n",
    "\n",
    "    # set the colors of each object\n",
    "    colors = np.empty(voxels.shape, dtype=object)\n",
    "    # colors[link] = 'red'\n",
    "    # colors[cube1] = 'blue'\n",
    "    colors[shape1] = 'green'\n",
    "\n",
    "    # and plot everything\n",
    "    fig = plt.figure()\n",
    "    ax = fig.gca(projection='3d')\n",
    "    ax.voxels(voxels, facecolors=colors, edgecolor='k')\n",
    "\n",
    "    plt.show()\n"
   ]
  }
 ],
 "metadata": {
  "kernelspec": {
   "display_name": "Python 3",
   "language": "python",
   "name": "python3"
  },
  "language_info": {
   "codemirror_mode": {
    "name": "ipython",
    "version": 3
   },
   "file_extension": ".py",
   "mimetype": "text/x-python",
   "name": "python",
   "nbconvert_exporter": "python",
   "pygments_lexer": "ipython3",
   "version": "3.7.4"
  }
 },
 "nbformat": 4,
 "nbformat_minor": 1
}
