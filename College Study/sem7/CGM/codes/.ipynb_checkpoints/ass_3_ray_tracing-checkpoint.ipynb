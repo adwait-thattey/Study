{
 "cells": [
  {
   "cell_type": "code",
   "execution_count": 27,
   "metadata": {
    "pycharm": {
     "name": "#%%\n"
    }
   },
   "outputs": [],
   "source": [
    "import numpy as np\n",
    "import matplotlib.pyplot as plt\n",
    "from mpl_toolkits.mplot3d import Axes3D"
   ]
  },
  {
   "cell_type": "code",
   "execution_count": 28,
   "metadata": {},
   "outputs": [],
   "source": [
    "def normalize(vector):\n",
    "    return vector / np.linalg.norm(vector)\n",
    "\n",
    "class Face:\n",
    "    def __init__(self, v1, v2, v3, v4):\n",
    "        # A face of 4 vertices\n",
    "        self.vertices = np.array([v1,v2,v3,v4])\n",
    "        self.normal = None\n",
    "\n",
    "    def check_coplaner(self):\n",
    "        c1 = np.cross(self.vertices[0] - self.vertices[1], self.vertices[1] - self.vertices[2])\n",
    "        c2 = np.cross(self.vertices[1] - self.vertices[2], self.vertices[2] - self.vertices[3])\n",
    "        c3 = np.cross(self.vertices[2] - self.vertices[3], self.vertices[3] - self.vertices[0])\n",
    "        c4 = np.cross(self.vertices[3] - self.vertices[0], self.vertices[1] - self.vertices[2])\n",
    "\n",
    "        cc1 = np.cross(c1,c2)\n",
    "        cc2 = np.cross(c1,c3)\n",
    "        cc3 = np.cross(c1,c4)\n",
    "\n",
    "        if np.linalg.norm(cc1)!=0 :\n",
    "            raise ValueError(f\"Face points not coplanar, vertices = {self.vertices}. Failed for c1, c2. c1={c1} c2={c2}  \")\n",
    "\n",
    "        if np.linalg.norm(cc2)!=0 :\n",
    "            raise ValueError(f\"Face points not coplanar, vertices = {self.vertices}. Failed for c1, c3. c1={c1} c3={c3}  \")\n",
    "\n",
    "        if np.linalg.norm(cc3)!=0 :\n",
    "            raise ValueError(f\"Face points not coplanar, vertices = {self.vertices}. Failed for c1, c4. c1={c1} c4={c4}  \")\n",
    "\n",
    "    def build_normal(self):\n",
    "        cross = np.cross(self.vertices[0], self.vertices[1])\n",
    "        self.normal = normalize(cross)\n",
    "\n",
    "    def process(self):\n",
    "        self.check_coplaner()\n",
    "        self.build_normal()\n",
    "\n",
    "class SceneObject:\n",
    "    def __init__(self, name=\"\"):\n",
    "        self.name = name\n",
    "        self.vertices = list()\n",
    "        self.faces = list()\n",
    "\n",
    "        self.is_finished = False\n",
    "\n",
    "        self.color_params = {}\n",
    "\n",
    "    def add_vertex(self, x, y, z):\n",
    "        self.vertices.append(np.array([x,y,z]))\n",
    "\n",
    "    def add_face(self, v1,v2,v3,v4):\n",
    "        # v1,v2,v3,v4 are the index of vertices. Not actual vector\n",
    "        face = Face(self.vertices[v1], self.vertices[v2], self.vertices[v3], self.vertices[v4])\n",
    "        face.process()\n",
    "        self.faces.append(face)\n",
    "\n"
   ]
  },
  {
   "cell_type": "code",
   "execution_count": 30,
   "metadata": {
    "pycharm": {
     "name": "#%%\n"
    }
   },
   "outputs": [
    {
     "name": "stdout",
     "output_type": "stream",
     "text": [
      "[array([10, 10, 10]), array([10, 15, 10]), array([15, 15, 10]), array([15, 10, 10]), array([10, 10, 15]), array([10, 15, 15]), array([15, 15, 15]), array([15, 10, 15])]\n",
      "[<__main__.Face object at 0x7fd0cd024730>, <__main__.Face object at 0x7fd0cd0240a0>, <__main__.Face object at 0x7fd0cd024670>, <__main__.Face object at 0x7fd0cd024070>, <__main__.Face object at 0x7fd0cd024400>, <__main__.Face object at 0x7fd0cd374fa0>]\n"
     ]
    }
   ],
   "source": [
    "def driver():\n",
    "    obj1 = SceneObject(\"cube1\")\n",
    "    obj1.add_vertex(10,10,10)\n",
    "    obj1.add_vertex(10,15,10)\n",
    "    obj1.add_vertex(15,15,10)\n",
    "    obj1.add_vertex(15,10,10)\n",
    "\n",
    "    obj1.add_vertex(10,10,15)\n",
    "    obj1.add_vertex(10,15,15)\n",
    "    obj1.add_vertex(15,15,15)\n",
    "    obj1.add_vertex(15,10,15)\n",
    "\n",
    "    obj1.add_face(0,1,2,3)\n",
    "    obj1.add_face(0,1,5,4)\n",
    "    obj1.add_face(4,5,6,7)\n",
    "    obj1.add_face(3,2,6,7)\n",
    "    obj1.add_face(0,4,7,3)\n",
    "    obj1.add_face(1,5,6,2)\n",
    "    \n",
    "#     print(obj1.vertices)\n",
    "#     print(obj1.faces)\n",
    "    \n",
    "    return obj1\n",
    "\n",
    "obj = driver()"
   ]
  },
  {
   "cell_type": "code",
   "execution_count": 15,
   "metadata": {
    "pycharm": {
     "name": "#%%\n"
    }
   },
   "outputs": [
    {
     "data": {
      "image/png": "[encoded data removed]",
      "text/plain": [
       "<Figure size 432x288 with 1 Axes>"
      ]
     },
     "metadata": {
      "needs_background": "light"
     },
     "output_type": "display_data"
    }
   ],
   "source": [
    "# test plot\n",
    "def test_plot_3d():\n",
    "    x, y, z = np.indices((20, 20, 20))\n",
    "\n",
    "    # draw cuboids in the top left and bottom right corners, and a link between them\n",
    "    # cube1 = (x < 3) & (y < 3) & (z < 3)\n",
    "    shape1 = (x >= 10) & (x < 15) & (y >= 10) & (y <= 15) & (z >= 10) & (z < 15)\n",
    "    # link = abs(x - y) + abs(y - z) + abs(z - x) <= 2\n",
    "\n",
    "    # combine the objects into a single boolean array\n",
    "    voxels = shape1 #cube1 | cube2 | link\n",
    "\n",
    "    # set the colors of each object\n",
    "    colors = np.empty(voxels.shape, dtype=object)\n",
    "    # colors[link] = 'red'\n",
    "    # colors[cube1] = 'blue'\n",
    "    colors[shape1] = 'green'\n",
    "\n",
    "    # and plot everything\n",
    "    fig = plt.figure()\n",
    "    ax = fig.gca(projection='3d')\n",
    "    ax.voxels(voxels, facecolors=colors, edgecolor='k')\n",
    "\n",
    "    plt.show()\n"
   ]
  }
 ],
 "metadata": {
  "kernelspec": {
   "display_name": "Python 3",
   "language": "python",
   "name": "python3"
  },
  "language_info": {
   "codemirror_mode": {
    "name": "ipython",
    "version": 3
   },
   "file_extension": ".py",
   "mimetype": "text/x-python",
   "name": "python",
   "nbconvert_exporter": "python",
   "pygments_lexer": "ipython3",
   "version": "3.8.6"
  }
 },
 "nbformat": 4,
 "nbformat_minor": 1
}
