{
 "cells": [
  {
   "cell_type": "code",
   "execution_count": 27,
   "metadata": {
    "scrolled": true
   },
   "outputs": [
    {
     "name": "stdout",
     "output_type": "stream",
     "text": [
      "['D', 'A', 'V']\n",
      "3\n",
      "{'D': 0.3333333333333333, 'A': 0.3333333333333333, 'V': 0.3333333333333333}\n"
     ]
    }
   ],
   "source": [
    "import random\n",
    "# table in order\n",
    "l=['A', 'V', 'D']\n",
    "\n",
    "random.shuffle(l)\n",
    "print(l)\n",
    "chars = \"\".join(l)\n",
    "print(len(chars))\n",
    "probability_table = [(i,float(1/len(chars))) for i in chars]\n",
    "prob_dict = {i[0]:i[1] for i in probability_table}\n",
    "i=0\n",
    "print(prob_dict)\n",
    "range_table = dict()\n",
    "\n"
   ]
  },
  {
   "cell_type": "code",
   "execution_count": 28,
   "metadata": {},
   "outputs": [
    {
     "name": "stdout",
     "output_type": "stream",
     "text": [
      "A {'D': (0, 0.3333333333333333), 'A': (0.3333333333333333, 0.6666666666666666), 'V': (0.6666666666666666, 1.0)} \n",
      "\n",
      "\n",
      "V {'D': (0.3333333333333333, 0.4444444444444444), 'A': (0.4444444444444444, 0.5555555555555556), 'V': (0.5555555555555556, 0.6666666666666667)} \n",
      "\n",
      "\n",
      "A {'D': (0.5555555555555556, 0.5925925925925927), 'A': (0.5925925925925927, 0.6296296296296298), 'V': (0.6296296296296298, 0.6666666666666669)} \n",
      "\n",
      "\n",
      "D {'D': (0.5925925925925927, 0.6049382716049384), 'A': (0.6049382716049384, 0.6172839506172841), 'V': (0.6172839506172841, 0.6296296296296299)} \n",
      "\n",
      "\n",
      "A {'D': (0.5925925925925927, 0.5967078189300412), 'A': (0.5967078189300412, 0.6008230452674898), 'V': (0.6008230452674898, 0.6049382716049383)} \n",
      "\n",
      "\n",
      "0.5967078189300412 0.6008230452674898\n"
     ]
    }
   ],
   "source": [
    "inp_str = \"AVADA\"\n",
    "\n",
    "cur_range = [0,1]\n",
    "\n",
    "for i in inp_str:\n",
    "    \n",
    "    start=cur_range[0]\n",
    "    for ix in probability_table:\n",
    "        high_lr = start + (cur_range[1] - cur_range[0])*prob_dict[ix[0]]\n",
    "        range_table[ix[0]] = (start,high_lr)\n",
    "        start=high_lr\n",
    "    \n",
    "    print(i, range_table, \"\\n\\n\")\n",
    "    cur_range[0] = range_table[i][0]\n",
    "    cur_range[1] = range_table[i][1]\n",
    "\n",
    "print(cur_range[0], cur_range[1])\n",
    "        "
   ]
  },
  {
   "cell_type": "code",
   "execution_count": 15,
   "metadata": {},
   "outputs": [
    {
     "ename": "TypeError",
     "evalue": "sequence item 0: expected str instance, int found",
     "output_type": "error",
     "traceback": [
      "\u001b[0;31m---------------------------------------------------------------------------\u001b[0m",
      "\u001b[0;31mTypeError\u001b[0m                                 Traceback (most recent call last)",
      "\u001b[0;32m<ipython-input-15-5e629072eda4>\u001b[0m in \u001b[0;36m<module>\u001b[0;34m\u001b[0m\n\u001b[1;32m      2\u001b[0m \u001b[0mk\u001b[0m \u001b[0;34m=\u001b[0m \u001b[0;36m1\u001b[0m\u001b[0;34m\u001b[0m\u001b[0;34m\u001b[0m\u001b[0m\n\u001b[1;32m      3\u001b[0m \u001b[0;34m\u001b[0m\u001b[0m\n\u001b[0;32m----> 4\u001b[0;31m \u001b[0;32mwhile\u001b[0m \u001b[0mint\u001b[0m\u001b[0;34m(\u001b[0m\u001b[0;34m(\u001b[0m\u001b[0;34m\"0.\"\u001b[0m \u001b[0;34m+\u001b[0m \u001b[0;34m\"\"\u001b[0m\u001b[0;34m.\u001b[0m\u001b[0mjoin\u001b[0m\u001b[0;34m(\u001b[0m\u001b[0mbitstr\u001b[0m\u001b[0;34m)\u001b[0m\u001b[0;34m)\u001b[0m\u001b[0;34m,\u001b[0m\u001b[0;36m2\u001b[0m\u001b[0;34m)\u001b[0m \u001b[0;34m<\u001b[0m \u001b[0mcur_range\u001b[0m\u001b[0;34m[\u001b[0m\u001b[0;36m0\u001b[0m\u001b[0;34m]\u001b[0m \u001b[0;34m:\u001b[0m\u001b[0;34m\u001b[0m\u001b[0;34m\u001b[0m\u001b[0m\n\u001b[0m\u001b[1;32m      5\u001b[0m     \u001b[0mbitstr\u001b[0m\u001b[0;34m[\u001b[0m\u001b[0;34m-\u001b[0m\u001b[0;36m1\u001b[0m\u001b[0;34m]\u001b[0m \u001b[0;34m=\u001b[0m \u001b[0;36m1\u001b[0m\u001b[0;34m\u001b[0m\u001b[0;34m\u001b[0m\u001b[0m\n\u001b[1;32m      6\u001b[0m     \u001b[0;32mif\u001b[0m \u001b[0mint\u001b[0m\u001b[0;34m(\u001b[0m\u001b[0;34m\"0.\"\u001b[0m\u001b[0;34m+\u001b[0m\u001b[0;34m\"\"\u001b[0m\u001b[0;34m.\u001b[0m\u001b[0mjoin\u001b[0m\u001b[0;34m(\u001b[0m\u001b[0mbitstr\u001b[0m\u001b[0;34m)\u001b[0m\u001b[0;34m,\u001b[0m\u001b[0;36m2\u001b[0m\u001b[0;34m)\u001b[0m \u001b[0;34m>\u001b[0m \u001b[0mcur_range\u001b[0m\u001b[0;34m[\u001b[0m\u001b[0;36m1\u001b[0m\u001b[0;34m]\u001b[0m\u001b[0;34m:\u001b[0m\u001b[0;34m\u001b[0m\u001b[0;34m\u001b[0m\u001b[0m\n",
      "\u001b[0;31mTypeError\u001b[0m: sequence item 0: expected str instance, int found"
     ]
    }
   ],
   "source": [
    "bitstr = [0,]\n",
    "k = 1\n",
    "\n",
    "while int((\"0.\" + \"\".join(bitstr)),2) < cur_range[0] :\n",
    "    bitstr[-1] = 1\n",
    "    if int(\"0.\"+\"\".join(bitstr),2) > cur_range[1]:\n",
    "        bitstr[-1] = 0\n",
    "    \n",
    "    bitstr.append(0)\n",
    "    \n",
    "print(bitstr)\n",
    "    "
   ]
  }
 ],
 "metadata": {
  "kernelspec": {
   "display_name": "Python 3",
   "language": "python",
   "name": "python3"
  },
  "language_info": {
   "codemirror_mode": {
    "name": "ipython",
    "version": 3
   },
   "file_extension": ".py",
   "mimetype": "text/x-python",
   "name": "python",
   "nbconvert_exporter": "python",
   "pygments_lexer": "ipython3",
   "version": "3.8.6"
  }
 },
 "nbformat": 4,
 "nbformat_minor": 4
}
