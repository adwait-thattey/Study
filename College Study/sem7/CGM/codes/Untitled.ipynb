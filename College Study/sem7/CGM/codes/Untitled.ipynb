{
 "cells": [
  {
   "cell_type": "code",
   "execution_count": 2,
   "metadata": {},
   "outputs": [],
   "source": [
    "import numpy, matplotlib\n",
    "import numpy as np"
   ]
  },
  {
   "cell_type": "code",
   "execution_count": 5,
   "metadata": {},
   "outputs": [
    {
     "name": "stdout",
     "output_type": "stream",
     "text": [
      "[[ -4.5  13.5 -13.5   4.5]\n",
      " [  9.  -22.5  18.   -4.5]\n",
      " [ -5.5   9.   -4.5   1. ]\n",
      " [  1.    0.    0.    0. ]]\n"
     ]
    }
   ],
   "source": [
    "A = np.array([[0,0,0,1],[(1/3)**3,(1/3)**2,(1/3),1],[(2/3)**3,(2/3)**2,(2/3),1],[1,1,1,1]])\n",
    "B = np.linalg.inv(A)\n",
    "print(B)"
   ]
  }
 ],
 "metadata": {
  "kernelspec": {
   "display_name": "Python 3",
   "language": "python",
   "name": "python3"
  },
  "language_info": {
   "codemirror_mode": {
    "name": "ipython",
    "version": 3
   },
   "file_extension": ".py",
   "mimetype": "text/x-python",
   "name": "python",
   "nbconvert_exporter": "python",
   "pygments_lexer": "ipython3",
   "version": "3.8.5"
  }
 },
 "nbformat": 4,
 "nbformat_minor": 4
}
