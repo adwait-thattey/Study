{
 "cells": [
  {
   "cell_type": "code",
   "execution_count": 1,
   "metadata": {},
   "outputs": [],
   "source": [
    "class Outer {\n",
    "    Inner inner1;\n",
    "    InnerStatic staticInner2;\n",
    "    \n",
    "    public Outer(){\n",
    "            this.inner1 = new Inner();\n",
    "            this.staticInner2 = new InnerStatic();\n",
    "    }\n",
    "    \n",
    "    public static void hello(){\n",
    "            System.out.println(\"Outer static Hello!\");\n",
    "    }\n",
    "    \n",
    "    \n",
    "    class Inner {\n",
    "        \n",
    "        public void hello(){\n",
    "            System.out.println(\"Inner Hello!\");\n",
    "        }\n",
    "    }\n",
    "    \n",
    "    static class InnerStatic {\n",
    "        public static void hello(){\n",
    "            System.out.println(\"Static Inner Static Hello\");\n",
    "        }\n",
    "        \n",
    "        public void bye() {\n",
    "            System.out.println(\"Static Inner bye\");\n",
    "        }\n",
    "    }\n",
    "}"
   ]
  },
  {
   "cell_type": "code",
   "execution_count": 2,
   "metadata": {},
   "outputs": [
    {
     "name": "stdout",
     "output_type": "stream",
     "text": [
      "Outer static Hello!\n"
     ]
    }
   ],
   "source": [
    "Outer.hello(); // Outer hello is static thus we can call directly"
   ]
  },
  {
   "cell_type": "code",
   "execution_count": 3,
   "metadata": {},
   "outputs": [
    {
     "name": "stdout",
     "output_type": "stream",
     "text": [
      "Static Inner Static Hello\n"
     ]
    }
   ],
   "source": [
    "Outer.InnerStatic.hello() // We can access a static methid inside a static inner class directly"
   ]
  },
  {
   "cell_type": "code",
   "execution_count": 4,
   "metadata": {},
   "outputs": [
    {
     "ename": "CompilationException",
     "evalue": "",
     "output_type": "error",
     "traceback": [
      "\u001b[1m\u001b[30m|   \u001b[1m\u001b[30m\u001b[0m\u001b[1m\u001b[30m\u001b[41mOuter.InnerStatic.bye\u001b[0m\u001b[1m\u001b[30m(); // not allowed to directly call a non-static method even if inner class is static\u001b[0m",
      "\u001b[1m\u001b[31mnon-static method bye() cannot be referenced from a static context\u001b[0m",
      ""
     ]
    }
   ],
   "source": [
    "Outer.InnerStatic.bye(); // not allowed to directly call a non-static method even if inner class is static"
   ]
  },
  {
   "cell_type": "code",
   "execution_count": 5,
   "metadata": {},
   "outputs": [],
   "source": [
    "Outer O1 = new Outer()"
   ]
  },
  {
   "cell_type": "code",
   "execution_count": 6,
   "metadata": {},
   "outputs": [
    {
     "name": "stdout",
     "output_type": "stream",
     "text": [
      "Inner Hello!\n"
     ]
    }
   ],
   "source": [
    "O1.inner1.hello()  // We can not call Inner directly without creating instance as it is not static"
   ]
  },
  {
   "cell_type": "code",
   "execution_count": 7,
   "metadata": {},
   "outputs": [
    {
     "name": "stdout",
     "output_type": "stream",
     "text": [
      "Static Inner bye\n"
     ]
    }
   ],
   "source": [
    "O1.staticInner2.bye(); // We can do this now. (Was not possible in line 4)"
   ]
  },
  {
   "cell_type": "code",
   "execution_count": 12,
   "metadata": {},
   "outputs": [
    {
     "ename": "CompilationException",
     "evalue": "",
     "output_type": "error",
     "traceback": [
      "\u001b[1m\u001b[30m|   \u001b[1m\u001b[30m        \u001b[0m\u001b[1m\u001b[30m\u001b[41mpublic static void bye(){\u001b[0m",
      "\u001b[1m\u001b[30m|   \u001b[1m\u001b[30m\u001b[41m            System.out.println(\"Inner static bye in non-static Inner\");\u001b[0m",
      "\u001b[1m\u001b[30m|   \u001b[1m\u001b[30m\u001b[41m        }\u001b[0m",
      "\u001b[1m\u001b[31mIllegal static declaration in inner class Outer.Inner\u001b[0m",
      "\u001b[1m\u001b[31m  modifier 'static' is only allowed in constant variable declarations\u001b[0m",
      ""
     ]
    }
   ],
   "source": [
    "/*\n",
    "It is not allowed to declare static methods/variables in an Iner class that is not itself static\n",
    "\n",
    "Ex:\n",
    "*/\n",
    "\n",
    "class Outer {\n",
    "    Inner inner1;\n",
    "    InnerStatic staticInner2;\n",
    "    \n",
    "    public Outer(){\n",
    "            this.inner1 = new Inner();\n",
    "            this.staticInner2 = new InnerStatic();\n",
    "    }\n",
    "    \n",
    "    public static void hello(){\n",
    "            System.out.println(\"Outer static Hello!\");\n",
    "    }\n",
    "    \n",
    "    \n",
    "    class Inner {\n",
    "        \n",
    "        public void hello(){\n",
    "            System.out.println(\"Inner Hello!\");\n",
    "        }\n",
    "        \n",
    "        public static void bye(){\n",
    "            System.out.println(\"Inner static bye in non-static Inner\");\n",
    "        }\n",
    "    }\n",
    "    \n",
    "    static class InnerStatic {\n",
    "        public static void hello(){\n",
    "            System.out.println(\"Static Inner Static Hello\");\n",
    "        }\n",
    "        \n",
    "        public void bye() {\n",
    "            System.out.println(\"Static Inner bye\");\n",
    "        }\n",
    "    }\n",
    "}"
   ]
  },
  {
   "cell_type": "code",
   "execution_count": null,
   "metadata": {},
   "outputs": [],
   "source": []
  }
 ],
 "metadata": {
  "kernelspec": {
   "display_name": "Java",
   "language": "java",
   "name": "java"
  },
  "language_info": {
   "codemirror_mode": "java",
   "file_extension": ".java",
   "mimetype": "text/x-java-source",
   "name": "Java",
   "pygments_lexer": "java",
   "version": "11.0.3+12-LTS"
  }
 },
 "nbformat": 4,
 "nbformat_minor": 2
}
