{
 "cells": [
  {
   "cell_type": "code",
   "execution_count": 1,
   "metadata": {},
   "outputs": [],
   "source": [
    "/*  \n",
    "* An abstract class only defines methods. Not implementation.\n",
    "* Any class that extends from an abstract class must override and define \n",
    "    all the methods/variables that have been declared with abstract keyword.\n",
    "* Instances can not be created of abstract class\n",
    "*/\n",
    "    "
   ]
  },
  {
   "cell_type": "code",
   "execution_count": 2,
   "metadata": {},
   "outputs": [],
   "source": [
    "/* Abstract Class */\n",
    "public abstract class Animal {\n",
    "    private String name;\n",
    "    \n",
    "    public Animal (String name){\n",
    "        this.name = name;\n",
    "    }\n",
    "    \n",
    "    public abstract void eat(); // This method must be defined in child class as it is declared with \n",
    "                                // abstract keywoard.\n",
    "    public abstract void drink(); // This method must be defined in child class as it is declared with\n",
    "                                    // abstract keywoard.\n",
    "    \n",
    "    public String getName(){\n",
    "        // Abstract keyword not used. It may or may not be defined in child.\n",
    "        return this.name;\n",
    "    }\n",
    "}"
   ]
  },
  {
   "cell_type": "code",
   "execution_count": 3,
   "metadata": {},
   "outputs": [],
   "source": [
    "/* Child class that extends Animal */\n",
    "public class Dog extends Animal{\n",
    "\n",
    "    public Dog(String name){\n",
    "        super(name);\n",
    "    }\n",
    "    \n",
    "    @Override\n",
    "    public void eat(){\n",
    "        System.out.println(\"Dog Eating food\");\n",
    "    }\n",
    "    \n",
    "    \n",
    "    @Override\n",
    "    public void drink(){\n",
    "        System.out.println(\"Dog Drinking Water\");\n",
    "    }\n",
    "    \n",
    "\n",
    "\n",
    "    \n",
    "}"
   ]
  },
  {
   "cell_type": "code",
   "execution_count": 4,
   "metadata": {},
   "outputs": [],
   "source": [
    "/* If child class is also abstract, it is not necessary to override parent's abstract methods.\n",
    "    They are automatically inherited in abstract state. \n",
    "*/\n",
    "public abstract class Cat extends Animal{\n",
    "\n",
    "    public Cat(String name){\n",
    "        super(name);\n",
    "    }\n",
    "    \n",
    "    @Override\n",
    "    public void eat(){\n",
    "        System.out.println(\"Cat Eating food\");\n",
    "    }\n",
    "    \n",
    "    \n",
    "}"
   ]
  },
  {
   "cell_type": "code",
   "execution_count": 5,
   "metadata": {},
   "outputs": [],
   "source": [
    "/* However any other class that further extends this abstract child,\n",
    "must implement all methods from all parents\n",
    "*/\n",
    "public class Fanny extends Cat{\n",
    "    \n",
    "    public Fanny(String name){\n",
    "        super(name);\n",
    "    }\n",
    "    \n",
    "    /* We need not implement eat again as eat in Cat is not abstract */\n",
    "    \n",
    "    \n",
    "    @Override\n",
    "    public void drink(){\n",
    "        System.out.println(\"Fanny drinkning food\");\n",
    "    }\n",
    "}"
   ]
  },
  {
   "cell_type": "code",
   "execution_count": null,
   "metadata": {},
   "outputs": [],
   "source": []
  }
 ],
 "metadata": {
  "kernelspec": {
   "display_name": "Java",
   "language": "java",
   "name": "java"
  },
  "language_info": {
   "codemirror_mode": "java",
   "file_extension": ".java",
   "mimetype": "text/x-java-source",
   "name": "Java",
   "pygments_lexer": "java",
   "version": "11.0.3+12-LTS"
  }
 },
 "nbformat": 4,
 "nbformat_minor": 2
}
