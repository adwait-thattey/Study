{
 "cells": [
  {
   "cell_type": "code",
   "execution_count": 5,
   "metadata": {},
   "outputs": [],
   "source": [
    "class Outer {\n",
    "    \n",
    "    public static void hello(){\n",
    "            System.out.println(\"Outer static Hello!\");\n",
    "    }\n",
    "    \n",
    "    class Inner {\n",
    "        \n",
    "        public void hello(){\n",
    "            System.out.println(\"Inner Hello!\");\n",
    "        }\n",
    "    }\n",
    "    \n",
    "    static class InnerStatic {\n",
    "        public void hello(){\n",
    "            System.out.println(\"Static Inner Hello\");\n",
    "        }\n",
    "    }\n",
    "}"
   ]
  },
  {
   "cell_type": "code",
   "execution_count": 2,
   "metadata": {},
   "outputs": [
    {
     "name": "stdout",
     "output_type": "stream",
     "text": [
      "Outer Hello!\n"
     ]
    }
   ],
   "source": [
    "Outer.hello();"
   ]
  },
  {
   "cell_type": "code",
   "execution_count": 3,
   "metadata": {},
   "outputs": [
    {
     "ename": "CompilationException",
     "evalue": "",
     "output_type": "error",
     "traceback": [
      "\u001b[1m\u001b[30m|   \u001b[1m\u001b[30m\u001b[0m\u001b[1m\u001b[30m\u001b[41mOuter.Inner.hello\u001b[0m\u001b[1m\u001b[30m();\u001b[0m",
      "\u001b[1m\u001b[31mnon-static method hello() cannot be referenced from a static context\u001b[0m",
      ""
     ]
    }
   ],
   "source": [
    "Outer.Inner.hello();"
   ]
  },
  {
   "cell_type": "code",
   "execution_count": null,
   "metadata": {},
   "outputs": [],
   "source": []
  }
 ],
 "metadata": {
  "kernelspec": {
   "display_name": "Java",
   "language": "java",
   "name": "java"
  },
  "language_info": {
   "codemirror_mode": "java",
   "file_extension": ".java",
   "mimetype": "text/x-java-source",
   "name": "Java",
   "pygments_lexer": "java",
   "version": "11.0.3+12-LTS"
  }
 },
 "nbformat": 4,
 "nbformat_minor": 2
}
