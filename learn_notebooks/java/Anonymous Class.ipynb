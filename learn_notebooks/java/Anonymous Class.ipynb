{
 "cells": [
  {
   "cell_type": "code",
   "execution_count": 1,
   "metadata": {},
   "outputs": [],
   "source": [
    "/* Anonymous classes are used when we need to use a class only once*/"
   ]
  },
  {
   "cell_type": "code",
   "execution_count": 2,
   "metadata": {},
   "outputs": [],
   "source": [
    "/* For example:\n",
    "    y.bar is a function needs a  new instance of some class X. \n",
    "    And this is the only place X is beinmg used.\n",
    "    Then in conventional way, we can make an inner class as done below\n",
    "    */"
   ]
  },
  {
   "cell_type": "code",
   "execution_count": 3,
   "metadata": {},
   "outputs": [],
   "source": [
    "public static void foo(){\n",
    "        \n",
    "    class X implements I{\n",
    "        /* I is some interface that X implements */\n",
    "        /* Methods and variables */\n",
    "    }\n",
    "    \n",
    "    y.bar(new X());\n",
    "}"
   ]
  },
  {
   "cell_type": "code",
   "execution_count": 4,
   "metadata": {},
   "outputs": [],
   "source": [
    "/* Now instead of this, we can make an Anonymous class*/\n",
    "/* Anonymous classes are classes without a name */"
   ]
  },
  {
   "cell_type": "code",
   "execution_count": 5,
   "metadata": {},
   "outputs": [],
   "source": [
    "public static void foo(){\n",
    "    \n",
    "    y.bar( new I(){\n",
    "        // override variables and methods of interface\n",
    "    });\n",
    "    \n",
    "    // Here we directly implemented the class inside the function body.\n",
    "    // This is an anonymous class\n",
    "}"
   ]
  },
  {
   "cell_type": "code",
   "execution_count": null,
   "metadata": {},
   "outputs": [],
   "source": []
  }
 ],
 "metadata": {
  "kernelspec": {
   "display_name": "Java",
   "language": "java",
   "name": "java"
  },
  "language_info": {
   "codemirror_mode": "java",
   "file_extension": ".java",
   "mimetype": "text/x-java-source",
   "name": "Java",
   "pygments_lexer": "java",
   "version": "11.0.3+12-LTS"
  }
 },
 "nbformat": 4,
 "nbformat_minor": 2
}
