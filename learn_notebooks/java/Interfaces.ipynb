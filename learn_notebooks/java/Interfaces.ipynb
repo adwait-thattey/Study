{
 "cells": [
  {
   "cell_type": "code",
   "execution_count": 1,
   "metadata": {},
   "outputs": [],
   "source": [
    "public interface IAutoCar {\n",
    "    void start();\n",
    "    void stop();\n",
    "    void unlock();\n",
    "    Boolean isCarMoving(); \n",
    "    // no need of public access specifier here all interface methods are meant to be public\n",
    "}"
   ]
  },
  {
   "cell_type": "code",
   "execution_count": 7,
   "metadata": {},
   "outputs": [],
   "source": [
    "public class TeslaX1 implements IAutoCar {\n",
    "    // all variables\n",
    "    // all private, protected methods\n",
    "    \n",
    "    @Override\n",
    "    public void start(){\n",
    "    \n",
    "    }\n",
    "    \n",
    "    @Override\n",
    "    public void stop() {\n",
    "    \n",
    "    }\n",
    "    \n",
    "    @Override\n",
    "    public void unlock(){\n",
    "    \n",
    "    }\n",
    "    \n",
    "    @Override\n",
    "    public Boolean isCarMoving(){\n",
    "        return true;\n",
    "    }\n",
    "    \n",
    "}"
   ]
  },
  {
   "cell_type": "code",
   "execution_count": 8,
   "metadata": {},
   "outputs": [],
   "source": [
    "/* We need to implement all the methods given in interface.\n",
    "even if we don't use all of them in class. We still need to implement.\n",
    "*/"
   ]
  },
  {
   "cell_type": "code",
   "execution_count": 9,
   "metadata": {},
   "outputs": [],
   "source": [
    "// When creating instances\n",
    "\n",
    "IAutoCar ac1;\n",
    "ac1 = new TeslaX1();\n",
    "ac1.start();\n",
    "ac1.stop();\n",
    "\n"
   ]
  },
  {
   "cell_type": "code",
   "execution_count": 11,
   "metadata": {},
   "outputs": [
    {
     "ename": "CompilationException",
     "evalue": "",
     "output_type": "error",
     "traceback": [
      "\u001b[1m\u001b[30m|   \u001b[1m\u001b[30mIAutoCar ac2 = \u001b[0m\u001b[1m\u001b[30m\u001b[41mnew IAutoCar()\u001b[0m\u001b[1m\u001b[30m; // This is wrong\u001b[0m",
      "\u001b[1m\u001b[31mIAutoCar is abstract; cannot be instantiated\u001b[0m",
      ""
     ]
    }
   ],
   "source": [
    "IAutoCar ac2 = new IAutoCar() // This is wrong"
   ]
  },
  {
   "cell_type": "code",
   "execution_count": null,
   "metadata": {},
   "outputs": [],
   "source": []
  }
 ],
 "metadata": {
  "kernelspec": {
   "display_name": "Java",
   "language": "java",
   "name": "java"
  },
  "language_info": {
   "codemirror_mode": "java",
   "file_extension": ".java",
   "mimetype": "text/x-java-source",
   "name": "Java",
   "pygments_lexer": "java",
   "version": "11.0.3+12-LTS"
  }
 },
 "nbformat": 4,
 "nbformat_minor": 2
}
